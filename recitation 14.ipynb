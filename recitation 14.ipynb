{
 "cells": [
  {
   "cell_type": "code",
   "execution_count": 16,
   "metadata": {},
   "outputs": [],
   "source": [
    "import numpy as np"
   ]
  },
  {
   "cell_type": "code",
   "execution_count": 20,
   "metadata": {},
   "outputs": [
    {
     "data": {
      "text/plain": [
       "[('a', 1),\n",
       " ('a', 2),\n",
       " ('a', 3),\n",
       " ('a', 4),\n",
       " ('b', 1),\n",
       " ('b', 2),\n",
       " ('b', 3),\n",
       " ('b', 4),\n",
       " ('c', 1),\n",
       " ('c', 2),\n",
       " ('c', 3),\n",
       " ('c', 4),\n",
       " ('d', 1),\n",
       " ('d', 2),\n",
       " ('d', 3),\n",
       " ('d', 4)]"
      ]
     },
     "execution_count": 20,
     "metadata": {},
     "output_type": "execute_result"
    }
   ],
   "source": [
    "def zipper(strs:list[str],ints: list[int]) ->list[tuple[str,int]]: \n",
    "    if not strs or not ints: \n",
    "        return []\n",
    "    ol=[]\n",
    "    for i in range(len(strs)):\n",
    "        for j in range(len(ints)):\n",
    "            ol.append((strs[i],ints[j]))\n",
    "    return ol \n",
    "\n",
    "zipper(['a','b','c','d'],[1,2,3,4])\n",
    "\n",
    "\n"
   ]
  },
  {
   "cell_type": "code",
   "execution_count": 2,
   "metadata": {},
   "outputs": [
    {
     "data": {
      "text/plain": [
       "False"
      ]
     },
     "execution_count": 2,
     "metadata": {},
     "output_type": "execute_result"
    }
   ],
   "source": [
    "def file_exists(fn:str)-> bool:\n",
    "    try: \n",
    "        file=open(fn,\"r\")\n",
    "        file.close()\n",
    "        return True\n",
    "    except FileNotFoundError:\n",
    "        return False\n",
    "\n",
    "file_exists(\"HW12\\\\poop.csv\")\n",
    "\n",
    "\n"
   ]
  },
  {
   "cell_type": "code",
   "execution_count": 3,
   "metadata": {},
   "outputs": [
    {
     "data": {
      "text/plain": [
       "3"
      ]
     },
     "execution_count": 3,
     "metadata": {},
     "output_type": "execute_result"
    }
   ],
   "source": [
    "def r_count(t:tuple)->int:\n",
    "    if len(t)==0:\n",
    "        return 0\n",
    "    a,*b =t\n",
    "    return 1+r_count((b))\n",
    "\n",
    "r_count((1,(((2,),),),3))"
   ]
  },
  {
   "cell_type": "code",
   "execution_count": 4,
   "metadata": {},
   "outputs": [
    {
     "data": {
      "text/plain": [
       "[1, 2, 3, 6, 7, 8, 9, 10]"
      ]
     },
     "execution_count": 4,
     "metadata": {},
     "output_type": "execute_result"
    }
   ],
   "source": [
    "def clean(l:list)->list:\n",
    "    ol=[]\n",
    "    for i in range(len(l)):\n",
    "        try:\n",
    "            for j in range(len(l[i])):\n",
    "                ol.append(l[i][j])\n",
    "        except TypeError:\n",
    "            ol.append(l[i])\n",
    "    return ol\n",
    "\n",
    "clean([1,(2,3),6,(7,8),9,10])\n",
    "\n"
   ]
  },
  {
   "cell_type": "code",
   "execution_count": 1,
   "metadata": {},
   "outputs": [
    {
     "data": {
      "text/plain": [
       "3.66649074601401"
      ]
     },
     "execution_count": 1,
     "metadata": {},
     "output_type": "execute_result"
    }
   ],
   "source": [
    "import numpy as np\n",
    "y_axis=np.linspace(0,1,100,endpoint=True)\n",
    "function=4-(np.sqrt(y_axis)+1)**2\n",
    "dy=y_axis[1]-y_axis[0]\n",
    "np.pi*np.trapz(function,y_axis,dy)\n"
   ]
  },
  {
   "cell_type": "code",
   "execution_count": 2,
   "metadata": {},
   "outputs": [
    {
     "data": {
      "text/plain": [
       "array([-0.33333333,  0.66666667,  0.        ])"
      ]
     },
     "execution_count": 2,
     "metadata": {},
     "output_type": "execute_result"
    }
   ],
   "source": [
    "np.linalg.solve([[1,2,3],[4,5,6],[9,9,12]],[1,2,3])\n"
   ]
  },
  {
   "cell_type": "code",
   "execution_count": 14,
   "metadata": {},
   "outputs": [
    {
     "data": {
      "image/png": "[encoded data removed]",
      "text/plain": [
       "<Figure size 640x480 with 1 Axes>"
      ]
     },
     "metadata": {},
     "output_type": "display_data"
    }
   ],
   "source": [
    "import matplotlib.pyplot as plt\n",
    "import numpy as np\n",
    "\n",
    "x=np.linspace(-5,5, 250, endpoint=True)\n",
    "# function = ((np.log(x)**2)/x**(1.5))+(11/(x**2-14))*np.tan(x**2) #*5*np.exp(x**2)+13*np.exp(x**3)+(x*np.log(x))**(-3)\n",
    "function = np.exp(-1*x**2)\n",
    "# function = np.sin(3*x)\n",
    "\n",
    "integral = np.trapz(function,x)\n",
    "\n",
    "plt.plot(x,function,label = \"balls\")\n",
    "plt.plot(x,np.cumsum(function),label = \"integrated balls\")\n",
    "plt.legend()\n",
    "plt.show()\n",
    "\n"
   ]
  },
  {
   "cell_type": "code",
   "execution_count": null,
   "metadata": {},
   "outputs": [],
   "source": []
  },
  {
   "cell_type": "code",
   "execution_count": null,
   "metadata": {},
   "outputs": [],
   "source": []
  }
 ],
 "metadata": {
  "kernelspec": {
   "display_name": "Python 3",
   "language": "python",
   "name": "python3"
  },
  "language_info": {
   "codemirror_mode": {
    "name": "ipython",
    "version": 3
   },
   "file_extension": ".py",
   "mimetype": "text/x-python",
   "name": "python",
   "nbconvert_exporter": "python",
   "pygments_lexer": "ipython3",
   "version": "3.12.2"
  }
 },
 "nbformat": 4,
 "nbformat_minor": 2
}
